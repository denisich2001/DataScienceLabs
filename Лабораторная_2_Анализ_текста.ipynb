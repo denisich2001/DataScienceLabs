{
  "nbformat": 4,
  "nbformat_minor": 0,
  "metadata": {
    "colab": {
      "name": "Лаба_2_Анализ_текста.ipynb",
      "provenance": [],
      "authorship_tag": "ABX9TyOBjIKX0C9i5YN/TpqXOH7c",
      "include_colab_link": true
    },
    "kernelspec": {
      "name": "python3",
      "display_name": "Python 3"
    },
    "language_info": {
      "name": "python"
    }
  },
  "cells": [
    {
      "cell_type": "markdown",
      "metadata": {
        "id": "view-in-github",
        "colab_type": "text"
      },
      "source": [
        "<a href=\"https://colab.research.google.com/github/denisich2001/DataScienceLabs/blob/main/%D0%9B%D0%B0%D0%B1%D0%BE%D1%80%D0%B0%D1%82%D0%BE%D1%80%D0%BD%D0%B0%D1%8F_2_%D0%90%D0%BD%D0%B0%D0%BB%D0%B8%D0%B7_%D1%82%D0%B5%D0%BA%D1%81%D1%82%D0%B0.ipynb\" target=\"_parent\"><img src=\"https://colab.research.google.com/assets/colab-badge.svg\" alt=\"Open In Colab\"/></a>"
      ]
    },
    {
      "cell_type": "markdown",
      "metadata": {
        "id": "0-PY9LPIeO30"
      },
      "source": [
        "#**Лабораторная работа 2**\n",
        "**Кирьянов Денис группа N3248** "
      ]
    },
    {
      "cell_type": "markdown",
      "metadata": {
        "id": "7eE0FtSVU1OK"
      },
      "source": [
        "**Задание 1**"
      ]
    },
    {
      "cell_type": "markdown",
      "metadata": {
        "id": "Ir_szBwqaBWC"
      },
      "source": [
        "Загружаем файл"
      ]
    },
    {
      "cell_type": "code",
      "metadata": {
        "id": "LJJW46pvD3WD"
      },
      "source": [
        "import pandas as pd\n",
        "data = pd.read_csv(\"songs.csv\")"
      ],
      "execution_count": null,
      "outputs": []
    },
    {
      "cell_type": "code",
      "metadata": {
        "colab": {
          "base_uri": "https://localhost:8080/",
          "height": 204
        },
        "id": "zTvYAlowEsbE",
        "outputId": "5ef53fee-cb5b-42dc-ab9e-42a41d59607b"
      },
      "source": [
        "data.head()"
      ],
      "execution_count": null,
      "outputs": [
        {
          "output_type": "execute_result",
          "data": {
            "text/html": [
              "<div>\n",
              "<style scoped>\n",
              "    .dataframe tbody tr th:only-of-type {\n",
              "        vertical-align: middle;\n",
              "    }\n",
              "\n",
              "    .dataframe tbody tr th {\n",
              "        vertical-align: top;\n",
              "    }\n",
              "\n",
              "    .dataframe thead th {\n",
              "        text-align: right;\n",
              "    }\n",
              "</style>\n",
              "<table border=\"1\" class=\"dataframe\">\n",
              "  <thead>\n",
              "    <tr style=\"text-align: right;\">\n",
              "      <th></th>\n",
              "      <th>genre</th>\n",
              "      <th>lyrics</th>\n",
              "      <th>SongInfo</th>\n",
              "    </tr>\n",
              "  </thead>\n",
              "  <tbody>\n",
              "    <tr>\n",
              "      <th>0</th>\n",
              "      <td>Christian</td>\n",
              "      <td>Who am I, that the Lord of all the earth Woul...</td>\n",
              "      <td>CASTING CROWNS - WHO AM I LYRICS</td>\n",
              "    </tr>\n",
              "    <tr>\n",
              "      <th>1</th>\n",
              "      <td>Christian</td>\n",
              "      <td>Glory Revealed  By His Wounds He was pierced ...</td>\n",
              "      <td>GLORY REVEALED - BY HIS WOUNDS LYRICS</td>\n",
              "    </tr>\n",
              "    <tr>\n",
              "      <th>2</th>\n",
              "      <td>Christian</td>\n",
              "      <td>Lord of heaven and earth Lord of all creation...</td>\n",
              "      <td>CAEDMON'S CALL - GOD OF WONDERS LYRICS</td>\n",
              "    </tr>\n",
              "    <tr>\n",
              "      <th>3</th>\n",
              "      <td>Christian</td>\n",
              "      <td>I can only imagine what it will be like When ...</td>\n",
              "      <td>MERCYME - I CAN ONLY IMAGINE LYRICS</td>\n",
              "    </tr>\n",
              "    <tr>\n",
              "      <th>4</th>\n",
              "      <td>Christian</td>\n",
              "      <td>I am not skilled to understand What God has w...</td>\n",
              "      <td>AARON SHUST - MY SAVIOR MY GOD LYRICS</td>\n",
              "    </tr>\n",
              "  </tbody>\n",
              "</table>\n",
              "</div>"
            ],
            "text/plain": [
              "       genre  ...                                SongInfo\n",
              "0  Christian  ...        CASTING CROWNS - WHO AM I LYRICS\n",
              "1  Christian  ...   GLORY REVEALED - BY HIS WOUNDS LYRICS\n",
              "2  Christian  ...  CAEDMON'S CALL - GOD OF WONDERS LYRICS\n",
              "3  Christian  ...     MERCYME - I CAN ONLY IMAGINE LYRICS\n",
              "4  Christian  ...   AARON SHUST - MY SAVIOR MY GOD LYRICS\n",
              "\n",
              "[5 rows x 3 columns]"
            ]
          },
          "metadata": {},
          "execution_count": 108
        }
      ]
    },
    {
      "cell_type": "markdown",
      "metadata": {
        "id": "Vlo-pspNaF4_"
      },
      "source": [
        "Оставляем только нужные для обработки колонки"
      ]
    },
    {
      "cell_type": "code",
      "metadata": {
        "colab": {
          "base_uri": "https://localhost:8080/",
          "height": 419
        },
        "id": "YleqISeFEtyG",
        "outputId": "66c52060-e1ec-4e65-85e2-d76760d6abf4"
      },
      "source": [
        "columns = data[['genre','lyrics']]\n",
        "columns = columns[(columns.genre == 'R&B')|(columns.genre == 'Christian')]\n",
        "columns"
      ],
      "execution_count": null,
      "outputs": [
        {
          "output_type": "execute_result",
          "data": {
            "text/html": [
              "<div>\n",
              "<style scoped>\n",
              "    .dataframe tbody tr th:only-of-type {\n",
              "        vertical-align: middle;\n",
              "    }\n",
              "\n",
              "    .dataframe tbody tr th {\n",
              "        vertical-align: top;\n",
              "    }\n",
              "\n",
              "    .dataframe thead th {\n",
              "        text-align: right;\n",
              "    }\n",
              "</style>\n",
              "<table border=\"1\" class=\"dataframe\">\n",
              "  <thead>\n",
              "    <tr style=\"text-align: right;\">\n",
              "      <th></th>\n",
              "      <th>genre</th>\n",
              "      <th>lyrics</th>\n",
              "    </tr>\n",
              "  </thead>\n",
              "  <tbody>\n",
              "    <tr>\n",
              "      <th>0</th>\n",
              "      <td>Christian</td>\n",
              "      <td>Who am I, that the Lord of all the earth Woul...</td>\n",
              "    </tr>\n",
              "    <tr>\n",
              "      <th>1</th>\n",
              "      <td>Christian</td>\n",
              "      <td>Glory Revealed  By His Wounds He was pierced ...</td>\n",
              "    </tr>\n",
              "    <tr>\n",
              "      <th>2</th>\n",
              "      <td>Christian</td>\n",
              "      <td>Lord of heaven and earth Lord of all creation...</td>\n",
              "    </tr>\n",
              "    <tr>\n",
              "      <th>3</th>\n",
              "      <td>Christian</td>\n",
              "      <td>I can only imagine what it will be like When ...</td>\n",
              "    </tr>\n",
              "    <tr>\n",
              "      <th>4</th>\n",
              "      <td>Christian</td>\n",
              "      <td>I am not skilled to understand What God has w...</td>\n",
              "    </tr>\n",
              "    <tr>\n",
              "      <th>...</th>\n",
              "      <td>...</td>\n",
              "      <td>...</td>\n",
              "    </tr>\n",
              "    <tr>\n",
              "      <th>553</th>\n",
              "      <td>R&amp;B</td>\n",
              "      <td>Ha I dont care ha, about your past I just wan...</td>\n",
              "    </tr>\n",
              "    <tr>\n",
              "      <th>554</th>\n",
              "      <td>R&amp;B</td>\n",
              "      <td>Hoverin by my suitcase  Tryin to find a warm ...</td>\n",
              "    </tr>\n",
              "    <tr>\n",
              "      <th>555</th>\n",
              "      <td>R&amp;B</td>\n",
              "      <td>I dont know why I love you like I do  After a...</td>\n",
              "    </tr>\n",
              "    <tr>\n",
              "      <th>556</th>\n",
              "      <td>R&amp;B</td>\n",
              "      <td>C. C. Rider Elvis Presley  Well now see., C. ...</td>\n",
              "    </tr>\n",
              "    <tr>\n",
              "      <th>557</th>\n",
              "      <td>R&amp;B</td>\n",
              "      <td>Cynthia get up and dance to the music!  Get o...</td>\n",
              "    </tr>\n",
              "  </tbody>\n",
              "</table>\n",
              "<p>185 rows × 2 columns</p>\n",
              "</div>"
            ],
            "text/plain": [
              "         genre                                             lyrics\n",
              "0    Christian   Who am I, that the Lord of all the earth Woul...\n",
              "1    Christian   Glory Revealed  By His Wounds He was pierced ...\n",
              "2    Christian   Lord of heaven and earth Lord of all creation...\n",
              "3    Christian   I can only imagine what it will be like When ...\n",
              "4    Christian   I am not skilled to understand What God has w...\n",
              "..         ...                                                ...\n",
              "553        R&B   Ha I dont care ha, about your past I just wan...\n",
              "554        R&B   Hoverin by my suitcase  Tryin to find a warm ...\n",
              "555        R&B   I dont know why I love you like I do  After a...\n",
              "556        R&B   C. C. Rider Elvis Presley  Well now see., C. ...\n",
              "557        R&B   Cynthia get up and dance to the music!  Get o...\n",
              "\n",
              "[185 rows x 2 columns]"
            ]
          },
          "metadata": {},
          "execution_count": 109
        }
      ]
    },
    {
      "cell_type": "markdown",
      "metadata": {
        "id": "sRXmCIjnaMqb"
      },
      "source": [
        "Создаем функцию для обработки текстовых данных.\n",
        "На нее мы будем ссылаться в будущем"
      ]
    },
    {
      "cell_type": "code",
      "metadata": {
        "id": "vhRoSZEMEspW"
      },
      "source": [
        "def preproc(columns):\n",
        "  #Перевод в нижний регистр\n",
        "  lowered = columns['lyrics'].str.lower()\n",
        "  columns['lowered'] = lowered\n",
        "\n",
        "\n",
        "  #Токенизация(разбиваем на отдельные слова)\n",
        "  import nltk\n",
        "  from nltk.tokenize import word_tokenize\n",
        "  nltk.download('punkt')\n",
        "\n",
        "  tokened = columns.apply(lambda row: nltk.word_tokenize(row['lowered']), axis=1)\n",
        "  columns['tokened'] = tokened\n",
        "\n",
        "\n",
        "  #Удаляем стоп-слова\n",
        "  nltk.download('stopwords')\n",
        "  from nltk.corpus import stopwords\n",
        "\n",
        "  withoutstop = columns['tokened'].apply(lambda x: [item for item in x if item not in stopwords.words('english')])\n",
        "  without_stop = []\n",
        "  for a in withoutstop:    \n",
        "      without_stop.append(\", \".join(a))\n",
        "  columns['without_stop'] = without_stop\n",
        "    \n",
        "\n",
        "  #Производим лемматизацию\n",
        "  from nltk.stem import WordNetLemmatizer \n",
        "  nltk.download('wordnet')\n",
        "  lemmatizer = WordNetLemmatizer()\n",
        "  lemmatized = columns['without_stop'].apply(lambda x: [lemmatizer.lemmatize(x)])\n",
        "  lemma = []\n",
        "  for a in lemmatized:    \n",
        "      lemma.append(\", \".join(a))\n",
        "  columns['result'] = lemma\n",
        "\n",
        "  return columns"
      ],
      "execution_count": null,
      "outputs": []
    },
    {
      "cell_type": "markdown",
      "metadata": {
        "id": "wQWNVJIVax67"
      },
      "source": [
        "Обрабатываем наши данные с помощью функции описанной выше"
      ]
    },
    {
      "cell_type": "code",
      "metadata": {
        "colab": {
          "base_uri": "https://localhost:8080/",
          "height": 696
        },
        "id": "nS_k0-0FSAUz",
        "outputId": "06081ae5-30fe-4fe7-baf9-cb3cdadacaa9"
      },
      "source": [
        "columns = preproc(columns)\n",
        "columns"
      ],
      "execution_count": null,
      "outputs": [
        {
          "output_type": "stream",
          "name": "stdout",
          "text": [
            "[nltk_data] Downloading package punkt to /root/nltk_data...\n",
            "[nltk_data]   Package punkt is already up-to-date!\n",
            "[nltk_data] Downloading package stopwords to /root/nltk_data...\n",
            "[nltk_data]   Package stopwords is already up-to-date!\n",
            "[nltk_data] Downloading package wordnet to /root/nltk_data...\n",
            "[nltk_data]   Package wordnet is already up-to-date!\n"
          ]
        },
        {
          "output_type": "execute_result",
          "data": {
            "text/html": [
              "<div>\n",
              "<style scoped>\n",
              "    .dataframe tbody tr th:only-of-type {\n",
              "        vertical-align: middle;\n",
              "    }\n",
              "\n",
              "    .dataframe tbody tr th {\n",
              "        vertical-align: top;\n",
              "    }\n",
              "\n",
              "    .dataframe thead th {\n",
              "        text-align: right;\n",
              "    }\n",
              "</style>\n",
              "<table border=\"1\" class=\"dataframe\">\n",
              "  <thead>\n",
              "    <tr style=\"text-align: right;\">\n",
              "      <th></th>\n",
              "      <th>genre</th>\n",
              "      <th>lyrics</th>\n",
              "      <th>lowered</th>\n",
              "      <th>tokened</th>\n",
              "      <th>without_stop</th>\n",
              "      <th>result</th>\n",
              "    </tr>\n",
              "  </thead>\n",
              "  <tbody>\n",
              "    <tr>\n",
              "      <th>0</th>\n",
              "      <td>Christian</td>\n",
              "      <td>Who am I, that the Lord of all the earth Woul...</td>\n",
              "      <td>who am i, that the lord of all the earth woul...</td>\n",
              "      <td>[who, am, i, ,, that, the, lord, of, all, the,...</td>\n",
              "      <td>,, lord, earth, would, care, know, name, would...</td>\n",
              "      <td>,, lord, earth, would, care, know, name, would...</td>\n",
              "    </tr>\n",
              "    <tr>\n",
              "      <th>1</th>\n",
              "      <td>Christian</td>\n",
              "      <td>Glory Revealed  By His Wounds He was pierced ...</td>\n",
              "      <td>glory revealed  by his wounds he was pierced ...</td>\n",
              "      <td>[glory, revealed, by, his, wounds, he, was, pi...</td>\n",
              "      <td>glory, revealed, wounds, pierced, transgressio...</td>\n",
              "      <td>glory, revealed, wounds, pierced, transgressio...</td>\n",
              "    </tr>\n",
              "    <tr>\n",
              "      <th>2</th>\n",
              "      <td>Christian</td>\n",
              "      <td>Lord of heaven and earth Lord of all creation...</td>\n",
              "      <td>lord of heaven and earth lord of all creation...</td>\n",
              "      <td>[lord, of, heaven, and, earth, lord, of, all, ...</td>\n",
              "      <td>lord, heaven, earth, lord, creation, lord, hea...</td>\n",
              "      <td>lord, heaven, earth, lord, creation, lord, hea...</td>\n",
              "    </tr>\n",
              "    <tr>\n",
              "      <th>3</th>\n",
              "      <td>Christian</td>\n",
              "      <td>I can only imagine what it will be like When ...</td>\n",
              "      <td>i can only imagine what it will be like when ...</td>\n",
              "      <td>[i, can, only, imagine, what, it, will, be, li...</td>\n",
              "      <td>imagine, like, walk, side, imagine, eyes, see,...</td>\n",
              "      <td>imagine, like, walk, side, imagine, eyes, see,...</td>\n",
              "    </tr>\n",
              "    <tr>\n",
              "      <th>4</th>\n",
              "      <td>Christian</td>\n",
              "      <td>I am not skilled to understand What God has w...</td>\n",
              "      <td>i am not skilled to understand what god has w...</td>\n",
              "      <td>[i, am, not, skilled, to, understand, what, go...</td>\n",
              "      <td>skilled, understand, god, willed, ,, god, plan...</td>\n",
              "      <td>skilled, understand, god, willed, ,, god, plan...</td>\n",
              "    </tr>\n",
              "    <tr>\n",
              "      <th>...</th>\n",
              "      <td>...</td>\n",
              "      <td>...</td>\n",
              "      <td>...</td>\n",
              "      <td>...</td>\n",
              "      <td>...</td>\n",
              "      <td>...</td>\n",
              "    </tr>\n",
              "    <tr>\n",
              "      <th>553</th>\n",
              "      <td>R&amp;B</td>\n",
              "      <td>Ha I dont care ha, about your past I just wan...</td>\n",
              "      <td>ha i dont care ha, about your past i just wan...</td>\n",
              "      <td>[ha, i, dont, care, ha, ,, about, your, past, ...</td>\n",
              "      <td>ha, dont, care, ha, ,, past, want, ho, ,, love...</td>\n",
              "      <td>ha, dont, care, ha, ,, past, want, ho, ,, love...</td>\n",
              "    </tr>\n",
              "    <tr>\n",
              "      <th>554</th>\n",
              "      <td>R&amp;B</td>\n",
              "      <td>Hoverin by my suitcase  Tryin to find a warm ...</td>\n",
              "      <td>hoverin by my suitcase  tryin to find a warm ...</td>\n",
              "      <td>[hoverin, by, my, suitcase, tryin, to, find, a...</td>\n",
              "      <td>hoverin, suitcase, tryin, find, warm, place, s...</td>\n",
              "      <td>hoverin, suitcase, tryin, find, warm, place, s...</td>\n",
              "    </tr>\n",
              "    <tr>\n",
              "      <th>555</th>\n",
              "      <td>R&amp;B</td>\n",
              "      <td>I dont know why I love you like I do  After a...</td>\n",
              "      <td>i dont know why i love you like i do  after a...</td>\n",
              "      <td>[i, dont, know, why, i, love, you, like, i, do...</td>\n",
              "      <td>dont, know, love, like, changes, put, stole, m...</td>\n",
              "      <td>dont, know, love, like, changes, put, stole, m...</td>\n",
              "    </tr>\n",
              "    <tr>\n",
              "      <th>556</th>\n",
              "      <td>R&amp;B</td>\n",
              "      <td>C. C. Rider Elvis Presley  Well now see., C. ...</td>\n",
              "      <td>c. c. rider elvis presley  well now see., c. ...</td>\n",
              "      <td>[c., c., rider, elvis, presley, well, now, see...</td>\n",
              "      <td>c., c., rider, elvis, presley, well, see., ,, ...</td>\n",
              "      <td>c., c., rider, elvis, presley, well, see., ,, ...</td>\n",
              "    </tr>\n",
              "    <tr>\n",
              "      <th>557</th>\n",
              "      <td>R&amp;B</td>\n",
              "      <td>Cynthia get up and dance to the music!  Get o...</td>\n",
              "      <td>cynthia get up and dance to the music!  get o...</td>\n",
              "      <td>[cynthia, get, up, and, dance, to, the, music,...</td>\n",
              "      <td>cynthia, get, dance, music, !, get, dance, mus...</td>\n",
              "      <td>cynthia, get, dance, music, !, get, dance, mus...</td>\n",
              "    </tr>\n",
              "  </tbody>\n",
              "</table>\n",
              "<p>185 rows × 6 columns</p>\n",
              "</div>"
            ],
            "text/plain": [
              "         genre  ...                                             result\n",
              "0    Christian  ...  ,, lord, earth, would, care, know, name, would...\n",
              "1    Christian  ...  glory, revealed, wounds, pierced, transgressio...\n",
              "2    Christian  ...  lord, heaven, earth, lord, creation, lord, hea...\n",
              "3    Christian  ...  imagine, like, walk, side, imagine, eyes, see,...\n",
              "4    Christian  ...  skilled, understand, god, willed, ,, god, plan...\n",
              "..         ...  ...                                                ...\n",
              "553        R&B  ...  ha, dont, care, ha, ,, past, want, ho, ,, love...\n",
              "554        R&B  ...  hoverin, suitcase, tryin, find, warm, place, s...\n",
              "555        R&B  ...  dont, know, love, like, changes, put, stole, m...\n",
              "556        R&B  ...  c., c., rider, elvis, presley, well, see., ,, ...\n",
              "557        R&B  ...  cynthia, get, dance, music, !, get, dance, mus...\n",
              "\n",
              "[185 rows x 6 columns]"
            ]
          },
          "metadata": {},
          "execution_count": 111
        }
      ]
    },
    {
      "cell_type": "markdown",
      "metadata": {
        "id": "P3GqXBEZa6kO"
      },
      "source": [
        "Разбиваем данные на 2 набора: для тренировки и для тестирования "
      ]
    },
    {
      "cell_type": "code",
      "metadata": {
        "id": "qxR-4gE-EstB"
      },
      "source": [
        "from sklearn.model_selection import train_test_split\n",
        "x_train, x_test, y_train, y_test = train_test_split(columns.result, columns.genre, train_size = 0.7)"
      ],
      "execution_count": null,
      "outputs": []
    },
    {
      "cell_type": "markdown",
      "metadata": {
        "id": "zt_QFRN8bE3k"
      },
      "source": [
        "Производим Векторизацию"
      ]
    },
    {
      "cell_type": "code",
      "metadata": {
        "id": "76Uxs3CgEszP"
      },
      "source": [
        "from sklearn.feature_extraction.text import CountVectorizer\n",
        "\n",
        "vectorizer = CountVectorizer(ngram_range=(1, 3))\n",
        "vectorized_x_train = vectorizer.fit_transform(x_train)"
      ],
      "execution_count": null,
      "outputs": []
    },
    {
      "cell_type": "markdown",
      "metadata": {
        "id": "b2jepDALbNkK"
      },
      "source": [
        "Обучаем и тестируем модель"
      ]
    },
    {
      "cell_type": "code",
      "metadata": {
        "colab": {
          "base_uri": "https://localhost:8080/"
        },
        "id": "URx0EXMbM7YY",
        "outputId": "5e6da61a-17d8-4ae8-bdf1-650ab12d70a9"
      },
      "source": [
        "#обучаем Байесовский классификатор\n",
        "from sklearn.naive_bayes import MultinomialNB \n",
        "clf = MultinomialNB()\n",
        "clf.fit(vectorized_x_train, y_train)\n",
        "\n",
        "#предсказываем и получаем оценку точности\n",
        "from sklearn.metrics import * \n",
        "pred = clf.predict(vectorizer.transform(x_test))\n",
        "print(classification_report(y_test, pred))"
      ],
      "execution_count": null,
      "outputs": [
        {
          "output_type": "stream",
          "name": "stdout",
          "text": [
            "              precision    recall  f1-score   support\n",
            "\n",
            "   Christian       0.93      0.96      0.95        27\n",
            "         R&B       0.96      0.93      0.95        29\n",
            "\n",
            "    accuracy                           0.95        56\n",
            "   macro avg       0.95      0.95      0.95        56\n",
            "weighted avg       0.95      0.95      0.95        56\n",
            "\n"
          ]
        }
      ]
    },
    {
      "cell_type": "markdown",
      "metadata": {
        "id": "W6ah_yEnUlAg"
      },
      "source": [
        "**Задание 2**"
      ]
    },
    {
      "cell_type": "markdown",
      "metadata": {
        "id": "9oBM3DIPbRu6"
      },
      "source": [
        "Добавляем текста песен для тестирования предыдущей модели"
      ]
    },
    {
      "cell_type": "code",
      "metadata": {
        "id": "FYsmlFAbQ5J8"
      },
      "source": [
        "song_1_lyrics = '''When I see you\n",
        "I run out of words to say\n",
        "I wouldn't leave you\n",
        "'Cause you're that type of girl to make me stay\n",
        "\n",
        "I see the guys tryna holla, girl I don't wanna bother you\n",
        "'Cause you're independent and you got my attention\n",
        "Can I be your baby father? Girl, I just wanna show you\n",
        "That I love what you are doin' hun\n",
        "\n",
        "I see you in the club, you gettin' down girl\n",
        "I wanna get with you, yeah\n",
        "I see you in the club, you showin' thugs love\n",
        "I wanna get with you\n",
        "\n",
        "You're so beautiful\n",
        "So damn beautiful\n",
        "Said you're so beautiful\n",
        "So damn beautiful\n",
        "\n",
        "You're so beautiful, beautiful\n",
        "Beautiful, beautiful\n",
        "You're so beautiful, beautiful\n",
        "Beautiful, beautiful\n",
        "You're so beautiful\n",
        "\n",
        "Like the clouds you\n",
        "Drift me away, far away, yeah\n",
        "And like the sun you\n",
        "Brighten the day, you brighten my day, yeah\n",
        "\n",
        "I never wanna see you cry cry cry\n",
        "And I never wanna tell a lie lie lie\n",
        "Said I never wanna see you cry cry cry\n",
        "And I never wanna tell a lie lie lie\n",
        "\n",
        "I see you in the club, you gettin' down girl\n",
        "I wanna get with you, yeah\n",
        "I see you in the club, you showin' thugs love\n",
        "I wanna get with you\n",
        "\n",
        "You're so beautiful\n",
        "So damn beautiful\n",
        "Said you're so beautiful\n",
        "So damn beautiful\n",
        "\n",
        "You're so beautiful, beautiful\n",
        "Beautiful, beautiful\n",
        "You're so beautiful, beautiful\n",
        "Beautiful, beautiful\n",
        "You're so beautiful\n",
        "\n",
        "Kardinal told you, whether the sky blue or yellow\n",
        "This fella ain't that mellow if it ain't about you!\n",
        "Hourglass shape make a place go 'woo!'\n",
        "Waistline makes my soldier salute\n",
        "\n",
        "I'm a brute, high from your high heel game\n",
        "High heels push up ya ass last name\n",
        "And you livin' in the fast lane, eyes like an angel\n",
        "Goddess, watch my gal and how she undress\n",
        "\n",
        "Spotless, heartless, bad to the bone\n",
        "Make me wanna go put me in the triple-X zone\n",
        "Lames don't know how to talk to you\n",
        "So let me walk with you, hold my hand\n",
        "\n",
        "I'ma spend them grands but after you undress\n",
        "Not like a hooker but more like a Princess\n",
        "Queen, Empress, President\n",
        "Pull anywhere you go on Earth 'cause you're beautiful, okay?\n",
        "\n",
        "I see you in the club, you gettin' down girl\n",
        "I wanna get with you, yeah\n",
        "I see you in the club, you showin' thugs love\n",
        "I wanna get with you\n",
        "\n",
        "You're so beautiful\n",
        "So damn beautiful\n",
        "Said you're so beautiful\n",
        "So damn beautiful\n",
        "\n",
        "You're so beautiful, beautiful\n",
        "Beautiful, beautiful\n",
        "You're so beautiful, beautiful\n",
        "Beautiful, beautiful\n",
        "You're so beautiful\n",
        "\n",
        "Where'd you come from? You're outta this world to me\n",
        "You're a symbol of what every beautiful woman should be, ooh wee\n",
        "\n",
        "I never wanna see you cry cry cry\n",
        "And I never wanna tell a lie lie lie\n",
        "Said I never wanna see you cry cry cry\n",
        "And I never wanna tell a lie lie lie\n",
        "\n",
        "I see you in the club, you gettin' down girl\n",
        "I wanna get with you, yeah\n",
        "I see you in the club, you showin' thugs love\n",
        "I wanna get with you\n",
        "\n",
        "You're so beautiful\n",
        "So damn beautiful\n",
        "Said you're so beautiful\n",
        "So damn beautiful\n",
        "You're so beautiful'''\n",
        "\n",
        "song_2_lyrics = '''\n",
        "They say sometimes you win some\n",
        "Sometimes you lose some\n",
        "And right now, right now I'm losing bad\n",
        "I've stood on this stage night after night\n",
        "Reminding the broken it'll be alright\n",
        "But right now, oh right now I just can't\n",
        "\n",
        "It's easy to sing\n",
        "When there's nothing to bring me down\n",
        "But what will I say\n",
        "When I'm held to the flame\n",
        "Like I am right now\n",
        "\n",
        "I know You're able and I know You can\n",
        "Save through the fire with Your mighty hand\n",
        "But even if You don't\n",
        "My hope is You alone\n",
        "\n",
        "They say it only takes a little faith\n",
        "To move a mountain\n",
        "Good thing\n",
        "A little faith is all I have right now\n",
        "But God, when You choose\n",
        "To leave mountains unmovable\n",
        "Give me the strength to be able to sing\n",
        "It is well with my soul\n",
        "\n",
        "I know You're able and I know You can\n",
        "Save through the fire with Your mighty hand\n",
        "But even if You don't\n",
        "My hope is You alone\n",
        "I know the sorrow, and I know the hurt\n",
        "Would all go away if You'd just say the word\n",
        "But even if You don't\n",
        "My hope is You alone\n",
        "\n",
        "You've been faithful, You've been good\n",
        "All of my days\n",
        "Jesus, I will cling to You\n",
        "Come what may\n",
        "‘Cause I know You're able\n",
        "I know You can\n",
        "\n",
        "I know You're able and I know You can\n",
        "Save through the fire with Your mighty hand\n",
        "But even if You don't\n",
        "My hope is You alone\n",
        "I know the sorrow, and I know the hurt\n",
        "Would all go away if You'd just say the word\n",
        "But even if You don't\n",
        "My hope is You alone\n",
        "\n",
        "It is well with my soul\n",
        "It is well, it is well with my soul\n",
        "'''\n",
        "song_1_genre = \"R&B\"\n",
        "song_2_genre = \"Christian\""
      ],
      "execution_count": null,
      "outputs": []
    },
    {
      "cell_type": "markdown",
      "metadata": {
        "id": "Ft2MM527b1dv"
      },
      "source": [
        "Создаем из песен датасет и обрабатываем его с помощью описанной выше фукнции preproc()"
      ]
    },
    {
      "cell_type": "code",
      "metadata": {
        "colab": {
          "base_uri": "https://localhost:8080/",
          "height": 252
        },
        "id": "w4pjtlivbzz7",
        "outputId": "ec4a166b-3231-4910-9e92-300189b02b7a"
      },
      "source": [
        "columns2 = pd.DataFrame(data = {\"genre\":[song_1_genre,song_2_genre],\"lyrics\":[song1_lyrics,song_2_lyrics]})\n",
        "columns2 = preproc(columns2)\n",
        "columns2"
      ],
      "execution_count": null,
      "outputs": [
        {
          "output_type": "stream",
          "name": "stdout",
          "text": [
            "[nltk_data] Downloading package punkt to /root/nltk_data...\n",
            "[nltk_data]   Package punkt is already up-to-date!\n",
            "[nltk_data] Downloading package stopwords to /root/nltk_data...\n",
            "[nltk_data]   Package stopwords is already up-to-date!\n",
            "[nltk_data] Downloading package wordnet to /root/nltk_data...\n",
            "[nltk_data]   Package wordnet is already up-to-date!\n"
          ]
        },
        {
          "output_type": "execute_result",
          "data": {
            "text/html": [
              "<div>\n",
              "<style scoped>\n",
              "    .dataframe tbody tr th:only-of-type {\n",
              "        vertical-align: middle;\n",
              "    }\n",
              "\n",
              "    .dataframe tbody tr th {\n",
              "        vertical-align: top;\n",
              "    }\n",
              "\n",
              "    .dataframe thead th {\n",
              "        text-align: right;\n",
              "    }\n",
              "</style>\n",
              "<table border=\"1\" class=\"dataframe\">\n",
              "  <thead>\n",
              "    <tr style=\"text-align: right;\">\n",
              "      <th></th>\n",
              "      <th>genre</th>\n",
              "      <th>lyrics</th>\n",
              "      <th>lowered</th>\n",
              "      <th>tokened</th>\n",
              "      <th>without_stop</th>\n",
              "      <th>result</th>\n",
              "    </tr>\n",
              "  </thead>\n",
              "  <tbody>\n",
              "    <tr>\n",
              "      <th>0</th>\n",
              "      <td>R&amp;B</td>\n",
              "      <td>When I see you\\nI run out of words to say\\nI w...</td>\n",
              "      <td>when i see you\\ni run out of words to say\\ni w...</td>\n",
              "      <td>[when, i, see, you, i, run, out, of, words, to...</td>\n",
              "      <td>see, run, words, say, would, n't, leave, 'caus...</td>\n",
              "      <td>see, run, words, say, would, n't, leave, 'caus...</td>\n",
              "    </tr>\n",
              "    <tr>\n",
              "      <th>1</th>\n",
              "      <td>Christian</td>\n",
              "      <td>\\nThey say sometimes you win some\\nSometimes y...</td>\n",
              "      <td>\\nthey say sometimes you win some\\nsometimes y...</td>\n",
              "      <td>[they, say, sometimes, you, win, some, sometim...</td>\n",
              "      <td>say, sometimes, win, sometimes, lose, right, ,...</td>\n",
              "      <td>say, sometimes, win, sometimes, lose, right, ,...</td>\n",
              "    </tr>\n",
              "  </tbody>\n",
              "</table>\n",
              "</div>"
            ],
            "text/plain": [
              "       genre  ...                                             result\n",
              "0        R&B  ...  see, run, words, say, would, n't, leave, 'caus...\n",
              "1  Christian  ...  say, sometimes, win, sometimes, lose, right, ,...\n",
              "\n",
              "[2 rows x 6 columns]"
            ]
          },
          "metadata": {},
          "execution_count": 116
        }
      ]
    },
    {
      "cell_type": "markdown",
      "metadata": {
        "id": "z1V5hElYcFFT"
      },
      "source": [
        "Тестируем модель на векторизированных данных"
      ]
    },
    {
      "cell_type": "code",
      "metadata": {
        "colab": {
          "base_uri": "https://localhost:8080/"
        },
        "id": "y6_f5ouAT_Jl",
        "outputId": "d07cb8fa-194d-4ef7-f116-e8e442ce858a"
      },
      "source": [
        "pred2 = clf.predict(vectorizer.transform(columns2['result']))\n",
        "print(classification_report(columns2['genre'], pred2))"
      ],
      "execution_count": null,
      "outputs": [
        {
          "output_type": "stream",
          "name": "stdout",
          "text": [
            "              precision    recall  f1-score   support\n",
            "\n",
            "   Christian       1.00      1.00      1.00         1\n",
            "         R&B       1.00      1.00      1.00         1\n",
            "\n",
            "    accuracy                           1.00         2\n",
            "   macro avg       1.00      1.00      1.00         2\n",
            "weighted avg       1.00      1.00      1.00         2\n",
            "\n"
          ]
        }
      ]
    },
    {
      "cell_type": "markdown",
      "metadata": {
        "id": "d7DtRcmgUxaa"
      },
      "source": [
        "**Задание 3**"
      ]
    },
    {
      "cell_type": "markdown",
      "metadata": {
        "id": "O0uofazqcaLw"
      },
      "source": [
        "Загружаем данные, создаем из них датасет и обрабатываем текста функцией preproc()"
      ]
    },
    {
      "cell_type": "code",
      "metadata": {
        "colab": {
          "base_uri": "https://localhost:8080/",
          "height": 696
        },
        "id": "xsQE7xGDUhtY",
        "outputId": "ce5130d3-49b9-4ce4-ef44-721bdf6b2ff2"
      },
      "source": [
        "data2 = pd.read_csv(\"dataset-lyrics-musics-mini.csv\")\n",
        "columns = data2[['cantorNome', 'letra']]\n",
        "columns = columns[(columns.cantorNome == \"david-bowie\")|(columns.cantorNome == \"paul-mccartney\")]\n",
        "columns['lyrics'] = columns['letra']\n",
        "columns = preproc(columns)\n",
        "columns"
      ],
      "execution_count": null,
      "outputs": [
        {
          "output_type": "stream",
          "name": "stdout",
          "text": [
            "[nltk_data] Downloading package punkt to /root/nltk_data...\n",
            "[nltk_data]   Package punkt is already up-to-date!\n",
            "[nltk_data] Downloading package stopwords to /root/nltk_data...\n",
            "[nltk_data]   Package stopwords is already up-to-date!\n",
            "[nltk_data] Downloading package wordnet to /root/nltk_data...\n",
            "[nltk_data]   Package wordnet is already up-to-date!\n"
          ]
        },
        {
          "output_type": "execute_result",
          "data": {
            "text/html": [
              "<div>\n",
              "<style scoped>\n",
              "    .dataframe tbody tr th:only-of-type {\n",
              "        vertical-align: middle;\n",
              "    }\n",
              "\n",
              "    .dataframe tbody tr th {\n",
              "        vertical-align: top;\n",
              "    }\n",
              "\n",
              "    .dataframe thead th {\n",
              "        text-align: right;\n",
              "    }\n",
              "</style>\n",
              "<table border=\"1\" class=\"dataframe\">\n",
              "  <thead>\n",
              "    <tr style=\"text-align: right;\">\n",
              "      <th></th>\n",
              "      <th>cantorNome</th>\n",
              "      <th>letra</th>\n",
              "      <th>lyrics</th>\n",
              "      <th>lowered</th>\n",
              "      <th>tokened</th>\n",
              "      <th>without_stop</th>\n",
              "      <th>result</th>\n",
              "    </tr>\n",
              "  </thead>\n",
              "  <tbody>\n",
              "    <tr>\n",
              "      <th>0</th>\n",
              "      <td>david-bowie</td>\n",
              "      <td>I, I will be king. And you, you will be queen....</td>\n",
              "      <td>I, I will be king. And you, you will be queen....</td>\n",
              "      <td>i, i will be king. and you, you will be queen....</td>\n",
              "      <td>[i, ,, i, will, be, king, ., and, you, ,, you,...</td>\n",
              "      <td>,, king, ., ,, queen, ., though, nothing, driv...</td>\n",
              "      <td>,, king, ., ,, queen, ., though, nothing, driv...</td>\n",
              "    </tr>\n",
              "    <tr>\n",
              "      <th>1</th>\n",
              "      <td>david-bowie</td>\n",
              "      <td>Didn't know what time it was,. The lights were...</td>\n",
              "      <td>Didn't know what time it was,. The lights were...</td>\n",
              "      <td>didn't know what time it was,. the lights were...</td>\n",
              "      <td>[did, n't, know, what, time, it, was, ,, ., th...</td>\n",
              "      <td>n't, know, time, ,, ., lights, low, ., leaned,...</td>\n",
              "      <td>n't, know, time, ,, ., lights, low, ., leaned,...</td>\n",
              "    </tr>\n",
              "    <tr>\n",
              "      <th>2</th>\n",
              "      <td>david-bowie</td>\n",
              "      <td>Ground control to Major Tom. Ground control to...</td>\n",
              "      <td>Ground control to Major Tom. Ground control to...</td>\n",
              "      <td>ground control to major tom. ground control to...</td>\n",
              "      <td>[ground, control, to, major, tom, ., ground, c...</td>\n",
              "      <td>ground, control, major, tom, ., ground, contro...</td>\n",
              "      <td>ground, control, major, tom, ., ground, contro...</td>\n",
              "    </tr>\n",
              "    <tr>\n",
              "      <th>3</th>\n",
              "      <td>david-bowie</td>\n",
              "      <td>It's a god-awful small affair. To the girl wit...</td>\n",
              "      <td>It's a god-awful small affair. To the girl wit...</td>\n",
              "      <td>it's a god-awful small affair. to the girl wit...</td>\n",
              "      <td>[it, 's, a, god-awful, small, affair, ., to, t...</td>\n",
              "      <td>'s, god-awful, small, affair, ., girl, mousy, ...</td>\n",
              "      <td>'s, god-awful, small, affair, ., girl, mousy, ...</td>\n",
              "    </tr>\n",
              "    <tr>\n",
              "      <th>4</th>\n",
              "      <td>david-bowie</td>\n",
              "      <td>I know when to go out. And when to stay in. Ge...</td>\n",
              "      <td>I know when to go out. And when to stay in. Ge...</td>\n",
              "      <td>i know when to go out. and when to stay in. ge...</td>\n",
              "      <td>[i, know, when, to, go, out, ., and, when, to,...</td>\n",
              "      <td>know, go, ., stay, ., get, things, done, ., ca...</td>\n",
              "      <td>know, go, ., stay, ., get, things, done, ., ca...</td>\n",
              "    </tr>\n",
              "    <tr>\n",
              "      <th>...</th>\n",
              "      <td>...</td>\n",
              "      <td>...</td>\n",
              "      <td>...</td>\n",
              "      <td>...</td>\n",
              "      <td>...</td>\n",
              "      <td>...</td>\n",
              "      <td>...</td>\n",
              "    </tr>\n",
              "    <tr>\n",
              "      <th>942</th>\n",
              "      <td>paul-mccartney</td>\n",
              "      <td>He's just a young boy looking for a way to fin...</td>\n",
              "      <td>He's just a young boy looking for a way to fin...</td>\n",
              "      <td>he's just a young boy looking for a way to fin...</td>\n",
              "      <td>[he, 's, just, a, young, boy, looking, for, a,...</td>\n",
              "      <td>'s, young, boy, looking, way, find, love, ., n...</td>\n",
              "      <td>'s, young, boy, looking, way, find, love, ., n...</td>\n",
              "    </tr>\n",
              "    <tr>\n",
              "      <th>943</th>\n",
              "      <td>paul-mccartney</td>\n",
              "      <td>How can I hope to reach your love. Help me to ...</td>\n",
              "      <td>How can I hope to reach your love. Help me to ...</td>\n",
              "      <td>how can i hope to reach your love. help me to ...</td>\n",
              "      <td>[how, can, i, hope, to, reach, your, love, ., ...</td>\n",
              "      <td>hope, reach, love, ., help, discover, ., 're, ...</td>\n",
              "      <td>hope, reach, love, ., help, discover, ., 're, ...</td>\n",
              "    </tr>\n",
              "    <tr>\n",
              "      <th>944</th>\n",
              "      <td>paul-mccartney</td>\n",
              "      <td>I like it. Please don't take my heart away. It...</td>\n",
              "      <td>I like it. Please don't take my heart away. It...</td>\n",
              "      <td>i like it. please don't take my heart away. it...</td>\n",
              "      <td>[i, like, it, ., please, do, n't, take, my, he...</td>\n",
              "      <td>like, ., please, n't, take, heart, away, ., 's...</td>\n",
              "      <td>like, ., please, n't, take, heart, away, ., 's...</td>\n",
              "    </tr>\n",
              "    <tr>\n",
              "      <th>945</th>\n",
              "      <td>paul-mccartney</td>\n",
              "      <td>Yvonne is the one I´ve been counting on. She s...</td>\n",
              "      <td>Yvonne is the one I´ve been counting on. She s...</td>\n",
              "      <td>yvonne is the one i´ve been counting on. she s...</td>\n",
              "      <td>[yvonne, is, the, one, i´ve, been, counting, o...</td>\n",
              "      <td>yvonne, one, i´ve, counting, ., said, long, yo...</td>\n",
              "      <td>yvonne, one, i´ve, counting, ., said, long, yo...</td>\n",
              "    </tr>\n",
              "    <tr>\n",
              "      <th>946</th>\n",
              "      <td>paul-mccartney</td>\n",
              "      <td>Instrumental</td>\n",
              "      <td>Instrumental</td>\n",
              "      <td>instrumental</td>\n",
              "      <td>[instrumental]</td>\n",
              "      <td>instrumental</td>\n",
              "      <td>instrumental</td>\n",
              "    </tr>\n",
              "  </tbody>\n",
              "</table>\n",
              "<p>947 rows × 7 columns</p>\n",
              "</div>"
            ],
            "text/plain": [
              "         cantorNome  ...                                             result\n",
              "0       david-bowie  ...  ,, king, ., ,, queen, ., though, nothing, driv...\n",
              "1       david-bowie  ...  n't, know, time, ,, ., lights, low, ., leaned,...\n",
              "2       david-bowie  ...  ground, control, major, tom, ., ground, contro...\n",
              "3       david-bowie  ...  's, god-awful, small, affair, ., girl, mousy, ...\n",
              "4       david-bowie  ...  know, go, ., stay, ., get, things, done, ., ca...\n",
              "..              ...  ...                                                ...\n",
              "942  paul-mccartney  ...  's, young, boy, looking, way, find, love, ., n...\n",
              "943  paul-mccartney  ...  hope, reach, love, ., help, discover, ., 're, ...\n",
              "944  paul-mccartney  ...  like, ., please, n't, take, heart, away, ., 's...\n",
              "945  paul-mccartney  ...  yvonne, one, i´ve, counting, ., said, long, yo...\n",
              "946  paul-mccartney  ...                                       instrumental\n",
              "\n",
              "[947 rows x 7 columns]"
            ]
          },
          "metadata": {},
          "execution_count": 118
        }
      ]
    },
    {
      "cell_type": "markdown",
      "metadata": {
        "id": "7IPf7By3dLeB"
      },
      "source": [
        "Разбиваем данные для тренировки и тестирования и векторизируем текст"
      ]
    },
    {
      "cell_type": "code",
      "metadata": {
        "id": "vQKldt1UXowW"
      },
      "source": [
        "from sklearn.model_selection import train_test_split\n",
        "x_train, x_test, y_train, y_test = train_test_split(columns.result, columns.cantorNome, train_size = 0.7)\n",
        "\n",
        "\n",
        "#Векторизация\n",
        "from sklearn.feature_extraction.text import CountVectorizer\n",
        "\n",
        "vectorizer = CountVectorizer(ngram_range=(1, 3))\n",
        "vectorized_x_train = vectorizer.fit_transform(x_train)"
      ],
      "execution_count": null,
      "outputs": []
    },
    {
      "cell_type": "markdown",
      "metadata": {
        "id": "h3Z3Mml4d6q9"
      },
      "source": [
        "Тренируем модель и проверяем его точность на тестовых данных"
      ]
    },
    {
      "cell_type": "code",
      "metadata": {
        "colab": {
          "base_uri": "https://localhost:8080/"
        },
        "id": "t2xqyPqid5vQ",
        "outputId": "ec4bd6b8-7caf-45ca-9dce-14ee5bfdb8d5"
      },
      "source": [
        "#обучаем Баесовский классификатор\n",
        "from sklearn.naive_bayes import MultinomialNB \n",
        "clf = MultinomialNB()\n",
        "clf.fit(vectorized_x_train, y_train)\n",
        "\n",
        "#предсказываем и получаем оценку точности\n",
        "from sklearn.metrics import * \n",
        "pred = clf.predict(vectorizer.transform(x_test))\n",
        "print(classification_report(y_test, pred))"
      ],
      "execution_count": null,
      "outputs": [
        {
          "output_type": "stream",
          "name": "stdout",
          "text": [
            "                precision    recall  f1-score   support\n",
            "\n",
            "   david-bowie       0.79      0.73      0.76       154\n",
            "paul-mccartney       0.71      0.77      0.74       131\n",
            "\n",
            "      accuracy                           0.75       285\n",
            "     macro avg       0.75      0.75      0.75       285\n",
            "  weighted avg       0.75      0.75      0.75       285\n",
            "\n"
          ]
        }
      ]
    },
    {
      "cell_type": "code",
      "metadata": {
        "id": "xQZA9sFDrpTt"
      },
      "source": [
        ""
      ],
      "execution_count": null,
      "outputs": []
    }
  ]
}